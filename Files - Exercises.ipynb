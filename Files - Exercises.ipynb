{
 "cells": [
  {
   "cell_type": "markdown",
   "metadata": {},
   "source": [
    "### Simple notepad"
   ]
  },
  {
   "cell_type": "markdown",
   "metadata": {},
   "source": [
    "Write a script called ```takenote.py``` that keeps asking the user for text and writes it to a file called ```notes.txt``` one line at a time, until the user writes the word ```exit``` alone on a line. This word should not be saved.\n",
    "\n",
    "Then  write a script called ```shownotes.py``` that prints the contents of ```notes.txt``` to the screen.\n",
    "\n",
    "Note that each time you run ```takenote.py```  file ```notes.txt``` is cleared. To avoid this, modify ```takenote.py``` so that it opens the file for appending instead than for writing - simply change 'w' into 'a' in the ```open()``` statement."
   ]
  },
  {
   "cell_type": "markdown",
   "metadata": {},
   "source": [
    "### Net charge of a protein"
   ]
  },
  {
   "cell_type": "markdown",
   "metadata": {},
   "source": [
    "It is possible to approximate the next charge of a protein by the following formula: start from\n",
    "```\n",
    "charge=-0.002\n",
    "```\n",
    "and for each occurrence of the residues in the following dictionary, add the corresponding charge:\n",
    "```\n",
    "AACharge={\"C\":-0.045, \"D\": -0.999, \"E\": -0.998, \"H\": 0.091, \"K\": 1.0, \"R\": 1.0,\"Y\": -0.001}\n",
    "```\n",
    "\n",
    "Write a program that asks the user for the name of a FASTA file, opens it, reads the sequence and  outputs the charge of the protein. \n",
    "\n",
    "(from Bassi, Python for Bioinformatics, exercise 4.13 and following and 5.4)"
   ]
  },
  {
   "cell_type": "markdown",
   "metadata": {},
   "source": [
    "### Parsing BLAST output"
   ]
  },
  {
   "cell_type": "markdown",
   "metadata": {},
   "source": [
    "Go to the [BLAST web page](http://blast.st-va.ncbi.nlm.nih.gov/Blast.cgi), select protein-protein BLAST and enter a sequence of your liking. Search against the Swissprot database. Go to the \"Download\" link and save the Hit Table in text (txt) format.\n",
    "\n",
    "Write a program that opens the hit table and prints the accession codes of the search results and their E-value up to an E-value threshold chosen by the user. The entries of the table are described in the comments at the top of the file.\n",
    "\n",
    "When this works, download the Hit Table in csv format and modify your program to parse that file instead. "
   ]
  },
  {
   "cell_type": "markdown",
   "metadata": {},
   "source": [
    "### Can read, can write"
   ]
  },
  {
   "cell_type": "markdown",
   "metadata": {},
   "source": [
    "Write a program that reads two FASTA files specified by the user and copies the two sequences one after the other to a third file, ready for use with ```clustalw```. Try to avoid duplicating the code that reads the files; use a loop instead."
   ]
  },
  {
   "cell_type": "code",
   "execution_count": null,
   "metadata": {},
   "outputs": [],
   "source": []
  }
 ],
 "metadata": {
  "kernelspec": {
   "display_name": "Python 3",
   "language": "python",
   "name": "python3"
  },
  "language_info": {
   "codemirror_mode": {
    "name": "ipython",
    "version": 3
   },
   "file_extension": ".py",
   "mimetype": "text/x-python",
   "name": "python",
   "nbconvert_exporter": "python",
   "pygments_lexer": "ipython3",
   "version": "3.6.9"
  }
 },
 "nbformat": 4,
 "nbformat_minor": 1
}
